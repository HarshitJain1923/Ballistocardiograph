{
 "cells": [
  {
   "cell_type": "code",
   "execution_count": 299,
   "id": "61447f53-739d-4354-a84f-7998ee173aa6",
   "metadata": {},
   "outputs": [
    {
     "data": {
      "text/plain": [
       "'cuda'"
      ]
     },
     "execution_count": 299,
     "metadata": {},
     "output_type": "execute_result"
    }
   ],
   "source": [
    "import torch\n",
    "import torch.nn as nn\n",
    "import numpy as np\n",
    "import pandas as pd\n",
    "from sklearn.model_selection import KFold, train_test_split\n",
    "import matplotlib.pyplot as plt\n",
    "import os\n",
    "device = 'cuda' if torch.cuda.is_available() else 'cpu'\n",
    "device"
   ]
  },
  {
   "cell_type": "code",
   "execution_count": 300,
   "id": "a74890e2-213a-4137-bfca-201265b3ad4b",
   "metadata": {},
   "outputs": [],
   "source": [
    "train_dataset_path = 'dataset/train'\n",
    "all_subjects = sorted(os.listdir(train_dataset_path))\n",
    "\n",
    "data_frames = []\n",
    "target_data_frames = []\n",
    "\n",
    "for subject_folder in all_subjects:\n",
    "    subject_path = os.path.join(train_dataset_path, subject_folder)\n",
    "    \n",
    "    if os.path.isdir(subject_path):\n",
    "        csv_files = sorted([f for f in os.listdir(subject_path) if f.endswith('.csv')])\n",
    "        \n",
    "        if len(csv_files) >= 2:\n",
    "            first_csv = csv_files[0]\n",
    "            target_csv = csv_files[1]\n",
    "            \n",
    "            # Input signal\n",
    "            full_path = os.path.join(subject_path, first_csv)\n",
    "            df = pd.read_csv(full_path, header=None).T\n",
    "            data_frames.append(df)\n",
    "            \n",
    "            # Target values\n",
    "            target_val_path = os.path.join(subject_path, target_csv)\n",
    "            target_df = pd.read_csv(target_val_path, header=None).T\n",
    "            target_df = target_df.drop(index=0).reset_index(drop=True)  # drop first row\n",
    "            target_data_frames.append(target_df)\n",
    "\n",
    "# Combine all subject data\n",
    "train_data_full = pd.concat(data_frames, ignore_index=True)\n",
    "\n",
    "target_values = pd.concat(target_data_frames, ignore_index=True)\n"
   ]
  },
  {
   "cell_type": "code",
   "execution_count": 301,
   "id": "3eb2db43-7aed-41b1-8a77-038f5d79a9d3",
   "metadata": {},
   "outputs": [
    {
     "name": "stdout",
     "output_type": "stream",
     "text": [
      "(46, 54240)\n"
     ]
    },
    {
     "data": {
      "text/html": [
       "<div>\n",
       "<style scoped>\n",
       "    .dataframe tbody tr th:only-of-type {\n",
       "        vertical-align: middle;\n",
       "    }\n",
       "\n",
       "    .dataframe tbody tr th {\n",
       "        vertical-align: top;\n",
       "    }\n",
       "\n",
       "    .dataframe thead th {\n",
       "        text-align: right;\n",
       "    }\n",
       "</style>\n",
       "<table border=\"1\" class=\"dataframe\">\n",
       "  <thead>\n",
       "    <tr style=\"text-align: right;\">\n",
       "      <th></th>\n",
       "      <th>0</th>\n",
       "      <th>1</th>\n",
       "      <th>2</th>\n",
       "      <th>3</th>\n",
       "      <th>4</th>\n",
       "      <th>5</th>\n",
       "      <th>6</th>\n",
       "      <th>7</th>\n",
       "      <th>8</th>\n",
       "      <th>9</th>\n",
       "      <th>...</th>\n",
       "      <th>54230</th>\n",
       "      <th>54231</th>\n",
       "      <th>54232</th>\n",
       "      <th>54233</th>\n",
       "      <th>54234</th>\n",
       "      <th>54235</th>\n",
       "      <th>54236</th>\n",
       "      <th>54237</th>\n",
       "      <th>54238</th>\n",
       "      <th>54239</th>\n",
       "    </tr>\n",
       "  </thead>\n",
       "  <tbody>\n",
       "    <tr>\n",
       "      <th>0</th>\n",
       "      <td>517</td>\n",
       "      <td>519</td>\n",
       "      <td>520</td>\n",
       "      <td>520</td>\n",
       "      <td>520</td>\n",
       "      <td>519</td>\n",
       "      <td>517</td>\n",
       "      <td>513</td>\n",
       "      <td>509</td>\n",
       "      <td>502</td>\n",
       "      <td>...</td>\n",
       "      <td>484</td>\n",
       "      <td>481</td>\n",
       "      <td>484</td>\n",
       "      <td>470</td>\n",
       "      <td>467</td>\n",
       "      <td>470</td>\n",
       "      <td>466</td>\n",
       "      <td>462</td>\n",
       "      <td>458</td>\n",
       "      <td>464</td>\n",
       "    </tr>\n",
       "    <tr>\n",
       "      <th>1</th>\n",
       "      <td>504</td>\n",
       "      <td>503</td>\n",
       "      <td>506</td>\n",
       "      <td>506</td>\n",
       "      <td>508</td>\n",
       "      <td>508</td>\n",
       "      <td>511</td>\n",
       "      <td>514</td>\n",
       "      <td>516</td>\n",
       "      <td>517</td>\n",
       "      <td>...</td>\n",
       "      <td>464</td>\n",
       "      <td>469</td>\n",
       "      <td>477</td>\n",
       "      <td>487</td>\n",
       "      <td>493</td>\n",
       "      <td>502</td>\n",
       "      <td>512</td>\n",
       "      <td>522</td>\n",
       "      <td>525</td>\n",
       "      <td>534</td>\n",
       "    </tr>\n",
       "    <tr>\n",
       "      <th>2</th>\n",
       "      <td>488</td>\n",
       "      <td>489</td>\n",
       "      <td>487</td>\n",
       "      <td>487</td>\n",
       "      <td>486</td>\n",
       "      <td>484</td>\n",
       "      <td>484</td>\n",
       "      <td>484</td>\n",
       "      <td>484</td>\n",
       "      <td>486</td>\n",
       "      <td>...</td>\n",
       "      <td>271</td>\n",
       "      <td>256</td>\n",
       "      <td>245</td>\n",
       "      <td>240</td>\n",
       "      <td>239</td>\n",
       "      <td>239</td>\n",
       "      <td>239</td>\n",
       "      <td>244</td>\n",
       "      <td>248</td>\n",
       "      <td>259</td>\n",
       "    </tr>\n",
       "    <tr>\n",
       "      <th>3</th>\n",
       "      <td>646</td>\n",
       "      <td>652</td>\n",
       "      <td>652</td>\n",
       "      <td>653</td>\n",
       "      <td>650</td>\n",
       "      <td>645</td>\n",
       "      <td>637</td>\n",
       "      <td>626</td>\n",
       "      <td>616</td>\n",
       "      <td>604</td>\n",
       "      <td>...</td>\n",
       "      <td>525</td>\n",
       "      <td>524</td>\n",
       "      <td>524</td>\n",
       "      <td>524</td>\n",
       "      <td>525</td>\n",
       "      <td>522</td>\n",
       "      <td>520</td>\n",
       "      <td>521</td>\n",
       "      <td>521</td>\n",
       "      <td>521</td>\n",
       "    </tr>\n",
       "    <tr>\n",
       "      <th>4</th>\n",
       "      <td>467</td>\n",
       "      <td>469</td>\n",
       "      <td>467</td>\n",
       "      <td>472</td>\n",
       "      <td>469</td>\n",
       "      <td>471</td>\n",
       "      <td>476</td>\n",
       "      <td>479</td>\n",
       "      <td>482</td>\n",
       "      <td>484</td>\n",
       "      <td>...</td>\n",
       "      <td>482</td>\n",
       "      <td>479</td>\n",
       "      <td>475</td>\n",
       "      <td>471</td>\n",
       "      <td>468</td>\n",
       "      <td>464</td>\n",
       "      <td>464</td>\n",
       "      <td>460</td>\n",
       "      <td>459</td>\n",
       "      <td>458</td>\n",
       "    </tr>\n",
       "  </tbody>\n",
       "</table>\n",
       "<p>5 rows × 54240 columns</p>\n",
       "</div>"
      ],
      "text/plain": [
       "   0      1      2      3      4      5      6      7      8      9      ...  \\\n",
       "0    517    519    520    520    520    519    517    513    509    502  ...   \n",
       "1    504    503    506    506    508    508    511    514    516    517  ...   \n",
       "2    488    489    487    487    486    484    484    484    484    486  ...   \n",
       "3    646    652    652    653    650    645    637    626    616    604  ...   \n",
       "4    467    469    467    472    469    471    476    479    482    484  ...   \n",
       "\n",
       "   54230  54231  54232  54233  54234  54235  54236  54237  54238  54239  \n",
       "0    484    481    484    470    467    470    466    462    458    464  \n",
       "1    464    469    477    487    493    502    512    522    525    534  \n",
       "2    271    256    245    240    239    239    239    244    248    259  \n",
       "3    525    524    524    524    525    522    520    521    521    521  \n",
       "4    482    479    475    471    468    464    464    460    459    458  \n",
       "\n",
       "[5 rows x 54240 columns]"
      ]
     },
     "execution_count": 301,
     "metadata": {},
     "output_type": "execute_result"
    }
   ],
   "source": [
    "print(train_data_full.shape)\n",
    "train_data_full.head()\n"
   ]
  },
  {
   "cell_type": "code",
   "execution_count": 302,
   "id": "40a84f0b-ee2c-4898-ac0f-87b91872e2bf",
   "metadata": {},
   "outputs": [
    {
     "name": "stdout",
     "output_type": "stream",
     "text": [
      "(46, 8)\n"
     ]
    },
    {
     "data": {
      "text/html": [
       "<div>\n",
       "<style scoped>\n",
       "    .dataframe tbody tr th:only-of-type {\n",
       "        vertical-align: middle;\n",
       "    }\n",
       "\n",
       "    .dataframe tbody tr th {\n",
       "        vertical-align: top;\n",
       "    }\n",
       "\n",
       "    .dataframe thead th {\n",
       "        text-align: right;\n",
       "    }\n",
       "</style>\n",
       "<table border=\"1\" class=\"dataframe\">\n",
       "  <thead>\n",
       "    <tr style=\"text-align: right;\">\n",
       "      <th></th>\n",
       "      <th>0</th>\n",
       "      <th>1</th>\n",
       "      <th>2</th>\n",
       "      <th>3</th>\n",
       "      <th>4</th>\n",
       "      <th>5</th>\n",
       "      <th>6</th>\n",
       "      <th>7</th>\n",
       "    </tr>\n",
       "  </thead>\n",
       "  <tbody>\n",
       "    <tr>\n",
       "      <th>0</th>\n",
       "      <td>13.02</td>\n",
       "      <td>14.80</td>\n",
       "      <td>15.16</td>\n",
       "      <td>15.20</td>\n",
       "      <td>15.20</td>\n",
       "      <td>15.20</td>\n",
       "      <td>15.22</td>\n",
       "      <td>15.22</td>\n",
       "    </tr>\n",
       "    <tr>\n",
       "      <th>1</th>\n",
       "      <td>12.82</td>\n",
       "      <td>14.77</td>\n",
       "      <td>15.05</td>\n",
       "      <td>15.11</td>\n",
       "      <td>15.09</td>\n",
       "      <td>15.03</td>\n",
       "      <td>15.03</td>\n",
       "      <td>15.11</td>\n",
       "    </tr>\n",
       "    <tr>\n",
       "      <th>2</th>\n",
       "      <td>13.03</td>\n",
       "      <td>14.80</td>\n",
       "      <td>15.07</td>\n",
       "      <td>15.11</td>\n",
       "      <td>15.12</td>\n",
       "      <td>15.12</td>\n",
       "      <td>15.12</td>\n",
       "      <td>15.12</td>\n",
       "    </tr>\n",
       "    <tr>\n",
       "      <th>3</th>\n",
       "      <td>13.03</td>\n",
       "      <td>14.80</td>\n",
       "      <td>15.07</td>\n",
       "      <td>15.11</td>\n",
       "      <td>15.03</td>\n",
       "      <td>15.12</td>\n",
       "      <td>15.12</td>\n",
       "      <td>15.12</td>\n",
       "    </tr>\n",
       "    <tr>\n",
       "      <th>4</th>\n",
       "      <td>12.87</td>\n",
       "      <td>14.59</td>\n",
       "      <td>15.05</td>\n",
       "      <td>13.90</td>\n",
       "      <td>14.99</td>\n",
       "      <td>15.09</td>\n",
       "      <td>15.11</td>\n",
       "      <td>15.12</td>\n",
       "    </tr>\n",
       "  </tbody>\n",
       "</table>\n",
       "</div>"
      ],
      "text/plain": [
       "       0      1      2      3      4      5      6      7\n",
       "0  13.02  14.80  15.16  15.20  15.20  15.20  15.22  15.22\n",
       "1  12.82  14.77  15.05  15.11  15.09  15.03  15.03  15.11\n",
       "2  13.03  14.80  15.07  15.11  15.12  15.12  15.12  15.12\n",
       "3  13.03  14.80  15.07  15.11  15.03  15.12  15.12  15.12\n",
       "4  12.87  14.59  15.05  13.90  14.99  15.09  15.11  15.12"
      ]
     },
     "execution_count": 302,
     "metadata": {},
     "output_type": "execute_result"
    }
   ],
   "source": [
    "print(target_values.shape)\n",
    "target_values.head()"
   ]
  },
  {
   "cell_type": "code",
   "execution_count": 303,
   "id": "047908ab-f460-4121-9d6a-d04e63aa009d",
   "metadata": {},
   "outputs": [
    {
     "data": {
      "image/png": "[encoded data removed]",
      "text/plain": [
       "<Figure size 640x480 with 1 Axes>"
      ]
     },
     "metadata": {},
     "output_type": "display_data"
    }
   ],
   "source": [
    "import matplotlib.pyplot as plt\n",
    "\n",
    "plt.hist(target_values.values.flatten(), bins=20)\n",
    "plt.title(\"Distribution of Breath Rates\")\n",
    "plt.xlabel(\"Breath Rate\")\n",
    "plt.ylabel(\"Frequency\")\n",
    "plt.show()\n"
   ]
  },
  {
   "cell_type": "code",
   "execution_count": 304,
   "id": "93570f7c-443a-4ecb-b969-174ef3c990e0",
   "metadata": {},
   "outputs": [],
   "source": [
    "class LSTM(torch.nn.Module):\n",
    "    def __init__(self):\n",
    "        super(LSTM, self).__init__()\n",
    "        self.lstm = torch.nn.LSTM(input_size=1, hidden_size=256, batch_first=True)\n",
    "        self.linear1 = torch.nn.Linear(256, 64)\n",
    "        self.dropout = torch.nn.Dropout(0.5)\n",
    "        self.linear2 = torch.nn.Linear(64, 1)\n",
    "        self.relu = torch.nn.ReLU()\n",
    "\n",
    "    def forward(self, x):  # x: (B, 6780, 1)\n",
    "        h_t, _ = self.lstm(x)\n",
    "        h_t = h_t[:, -1, :]  # Last time step\n",
    "        x = self.linear1(h_t)\n",
    "        x = self.relu(x)\n",
    "        x = self.dropout(x)\n",
    "        x = self.linear2(x)\n",
    "        return x.view(-1)  # (B,)\n"
   ]
  },
  {
   "cell_type": "code",
   "execution_count": 305,
   "id": "3455e8df-86f1-470b-8cfa-70f114c48d7e",
   "metadata": {},
   "outputs": [],
   "source": [
    "class BreathRateDataset(torch.utils.data.Dataset):\n",
    "    def __init__(self, signals_df, targets_df, window_size=6780, target_mean=0.0, target_std=1.0):\n",
    "        self.signals = signals_df.values.astype(np.float32)  # shape: (N, 54240)\n",
    "       \n",
    "        self.targets = targets_df.values.astype(np.float32)  # shape: (N, 8)\n",
    "        self.window_size = window_size\n",
    "        self.target_mean = target_mean\n",
    "        self.target_std = target_std\n",
    "   \n",
    "        assert self.signals.shape[1] == 8 * window_size\n",
    "\n",
    "    def __len__(self):\n",
    "        return len(self.signals)\n",
    "\n",
    "    def __getitem__(self, idx):\n",
    "        signal = self.signals[idx].reshape(8, self.window_size, 1)\n",
    "        target = self.targets[idx]\n",
    "        target = (target - self.target_mean) / self.target_std  # normalize\n",
    "        return torch.tensor(signal), torch.tensor(target, dtype=torch.float32)\n"
   ]
  },
  {
   "cell_type": "code",
   "execution_count": 306,
   "id": "ab9f6537-87f1-4248-b69c-5452c07f71ca",
   "metadata": {},
   "outputs": [],
   "source": [
    "train_data, validation_data, train_target, validation_target = train_test_split(train_data_full, target_values, test_size=1/6, shuffle=True )"
   ]
  },
  {
   "cell_type": "code",
   "execution_count": 307,
   "id": "1a9dbd11-fc8b-469a-b527-da3665043052",
   "metadata": {},
   "outputs": [],
   "source": [
    "train_dataset = BreathRateDataset(train_data, train_target ,6780)\n",
    "validation_dataset = BreathRateDataset(validation_data, validation_target , 6780)"
   ]
  },
  {
   "cell_type": "code",
   "execution_count": 308,
   "id": "c51b17ac-df38-4cb2-8006-79dec6b1da7f",
   "metadata": {},
   "outputs": [
    {
     "data": {
      "text/plain": [
       "torch.Size([8, 6780, 1])"
      ]
     },
     "execution_count": 308,
     "metadata": {},
     "output_type": "execute_result"
    }
   ],
   "source": [
    "x,y = train_dataset[0]\n",
    "x.shape"
   ]
  },
  {
   "cell_type": "code",
   "execution_count": 309,
   "id": "f695f14e-0874-4678-8d6d-13073328ed26",
   "metadata": {},
   "outputs": [],
   "source": [
    "train_dataloader = torch.utils.data.DataLoader(train_dataset, batch_size = 1)\n",
    "validation_dataloader = torch.utils.data.DataLoader(validation_dataset, batch_size = 1)"
   ]
  },
  {
   "cell_type": "code",
   "execution_count": 310,
   "id": "95eb3a9e-3791-4479-b625-6de2fb880d38",
   "metadata": {},
   "outputs": [],
   "source": [
    "from torch.amp import autocast, GradScaler\n",
    "from tqdm import tqdm\n",
    "\n",
    "def train(model, lossfn, optimizer, device, dataloader, scaler):\n",
    "    model.train()\n",
    "    total_loss, total_samples = 0.0, 0\n",
    "\n",
    "    for xb, yb in tqdm(dataloader, desc=\"Training\"):\n",
    "        # print(xb.shape)\n",
    "        B, N, W,_ = xb.shape  # B = batch size (subjects), N = 8 intervals\n",
    "        xb = xb.view(B * N, W, 1).to(device)     # (B×8, 6780, 1)\n",
    "        yb = yb.view(B * N).to(device)           # (B×8,)\n",
    "\n",
    "        optimizer.zero_grad()\n",
    "\n",
    "        with autocast('cuda'):\n",
    "            preds = model(xb)  # (B×8,)\n",
    "            preds.squeeze(-1)\n",
    "            loss = lossfn(preds, yb)\n",
    "\n",
    "        scaler.scale(loss).backward()\n",
    "        scaler.step(optimizer)\n",
    "        scaler.update()\n",
    "        total_loss += torch.sum((preds - yb) ** 2).item()\n",
    "        total_samples += len(yb)\n",
    "\n",
    "    rmse = (total_loss / total_samples) ** 0.5\n",
    "    print(f\"\\nTrain RMSE: {rmse:.4f}\")\n",
    "    return rmse\n",
    "\n",
    "@torch.no_grad()\n",
    "def validate(model, lossfn, device, dataloader):\n",
    "    model.eval()\n",
    "    total_loss, total_samples = 0.0, 0\n",
    "\n",
    "    for xb, yb in dataloader:\n",
    "        B, N, W, _ = xb.shape\n",
    "        xb = xb.view(B * N, W, 1).to(device)\n",
    "        yb = yb.view(B * N).to(device)\n",
    "\n",
    "        preds = model(xb)\n",
    "        preds.squeeze(-1)\n",
    "        loss = lossfn(preds, yb)\n",
    "        \n",
    "        total_loss += torch.sum((preds - yb) ** 2).item()\n",
    "        total_samples += len(yb)\n",
    "\n",
    "    rmse = (total_loss / total_samples) ** 0.5\n",
    "    print(f\"\\nValidation RMSE: {rmse:.4f}\")\n",
    "    return rmse\n",
    "\n"
   ]
  },
  {
   "cell_type": "code",
   "execution_count": 311,
   "id": "77227f25-943f-4d6d-a83c-412a723e8ef6",
   "metadata": {},
   "outputs": [],
   "source": [
    "# import numpy as np\n",
    "\n",
    "# # Assume train_targets is a DataFrame of shape (n_subjects, 8)\n",
    "# flat_targets = train_target.values.flatten()\n",
    "\n",
    "# # Create histogram\n",
    "# hist, bin_edges = np.histogram(flat_targets, bins=20)\n",
    "# bin_centers = 0.5 * (bin_edges[1:] + bin_edges[:-1])\n",
    "\n",
    "# # Compute inverse frequency weights\n",
    "# inv_freq = 1.0 / (hist + 1e-6)\n",
    "# inv_freq = inv_freq / inv_freq.sum()  # Normalize so weights don't explode\n",
    "# # Store for lookup\n",
    "# def compute_weight(y):\n",
    "#     # y: numpy array of target values\n",
    "#     bin_idx = np.digitize(y, bin_edges) - 1\n",
    "#     bin_idx = np.clip(bin_idx, 0, len(inv_freq) - 1)\n",
    "#     return inv_freq[bin_idx]\n"
   ]
  },
  {
   "cell_type": "code",
   "execution_count": 312,
   "id": "b665a7d9-6126-4ebd-b9cf-af1ba6c192fe",
   "metadata": {},
   "outputs": [],
   "source": [
    "# import torch\n",
    "\n",
    "# def weighted_mse(preds, targets):\n",
    "#     y_np = targets.detach().cpu().numpy()\n",
    "#     weights = torch.tensor(compute_weight(y_np), dtype=torch.float32, device=targets.device)\n",
    "#     return (weights * (preds - targets) ** 2).mean()\n"
   ]
  },
  {
   "cell_type": "code",
   "execution_count": 327,
   "id": "09f624e4-878d-48b6-8f1c-dd292c060439",
   "metadata": {},
   "outputs": [],
   "source": [
    "model = LSTM().to(device)\n",
    "model = torch.compile(model)\n",
    "lossfn = torch.nn.functional.mse_loss\n",
    "optimizer = torch.optim.Adam(model.parameters(), lr=1e-3)\n",
    "scaler = GradScaler()\n",
    "# scheduler = None \n",
    "#scheduler = torch.optim.lr_scheduler.ReduceLROnPlateau(optimizer, factor=0.1, patience=7, threshold=1e-2, verbose = True)"
   ]
  },
  {
   "cell_type": "code",
   "execution_count": 328,
   "id": "c5a0e511-56fd-4860-95b7-689106dd5328",
   "metadata": {},
   "outputs": [
    {
     "name": "stdout",
     "output_type": "stream",
     "text": [
      "\n",
      "Epoch 1\n"
     ]
    },
    {
     "name": "stderr",
     "output_type": "stream",
     "text": [
      "Training: 100%|████████████████████████████████████████████████████████████████████████| 38/38 [00:19<00:00,  1.90it/s]\n"
     ]
    },
    {
     "name": "stdout",
     "output_type": "stream",
     "text": [
      "\n",
      "Train RMSE: 13.0100\n",
      "\n",
      "Validation RMSE: 8.5296\n",
      "Saved best model.\n",
      "\n",
      "Epoch 2\n"
     ]
    },
    {
     "name": "stderr",
     "output_type": "stream",
     "text": [
      "Training: 100%|████████████████████████████████████████████████████████████████████████| 38/38 [00:18<00:00,  2.01it/s]\n"
     ]
    },
    {
     "name": "stdout",
     "output_type": "stream",
     "text": [
      "\n",
      "Train RMSE: 4.4732\n",
      "\n",
      "Validation RMSE: 1.1105\n",
      "Saved best model.\n",
      "\n",
      "Epoch 3\n"
     ]
    },
    {
     "name": "stderr",
     "output_type": "stream",
     "text": [
      "Training: 100%|████████████████████████████████████████████████████████████████████████| 38/38 [00:18<00:00,  2.05it/s]\n"
     ]
    },
    {
     "name": "stdout",
     "output_type": "stream",
     "text": [
      "\n",
      "Train RMSE: 3.0688\n",
      "\n",
      "Validation RMSE: 1.2468\n",
      "No improvement. Patience: 1/3\n",
      "\n",
      "Epoch 4\n"
     ]
    },
    {
     "name": "stderr",
     "output_type": "stream",
     "text": [
      "Training: 100%|████████████████████████████████████████████████████████████████████████| 38/38 [00:18<00:00,  2.02it/s]\n"
     ]
    },
    {
     "name": "stdout",
     "output_type": "stream",
     "text": [
      "\n",
      "Train RMSE: 2.9702\n",
      "\n",
      "Validation RMSE: 0.9167\n",
      "Saved best model.\n",
      "\n",
      "Epoch 5\n"
     ]
    },
    {
     "name": "stderr",
     "output_type": "stream",
     "text": [
      "Training: 100%|████████████████████████████████████████████████████████████████████████| 38/38 [00:19<00:00,  1.92it/s]\n"
     ]
    },
    {
     "name": "stdout",
     "output_type": "stream",
     "text": [
      "\n",
      "Train RMSE: 2.9927\n",
      "\n",
      "Validation RMSE: 0.9792\n",
      "No improvement. Patience: 1/3\n",
      "\n",
      "Epoch 6\n"
     ]
    },
    {
     "name": "stderr",
     "output_type": "stream",
     "text": [
      "Training: 100%|████████████████████████████████████████████████████████████████████████| 38/38 [00:18<00:00,  2.03it/s]\n"
     ]
    },
    {
     "name": "stdout",
     "output_type": "stream",
     "text": [
      "\n",
      "Train RMSE: 3.1226\n",
      "\n",
      "Validation RMSE: 0.8849\n",
      "Saved best model.\n",
      "\n",
      "Epoch 7\n"
     ]
    },
    {
     "name": "stderr",
     "output_type": "stream",
     "text": [
      "Training: 100%|████████████████████████████████████████████████████████████████████████| 38/38 [00:18<00:00,  2.02it/s]\n"
     ]
    },
    {
     "name": "stdout",
     "output_type": "stream",
     "text": [
      "\n",
      "Train RMSE: 2.6691\n",
      "\n",
      "Validation RMSE: 1.0520\n",
      "No improvement. Patience: 1/3\n",
      "\n",
      "Epoch 8\n"
     ]
    },
    {
     "name": "stderr",
     "output_type": "stream",
     "text": [
      "Training: 100%|████████████████████████████████████████████████████████████████████████| 38/38 [00:18<00:00,  2.03it/s]\n"
     ]
    },
    {
     "name": "stdout",
     "output_type": "stream",
     "text": [
      "\n",
      "Train RMSE: 2.8404\n",
      "\n",
      "Validation RMSE: 1.1389\n",
      "No improvement. Patience: 2/3\n",
      "\n",
      "Epoch 9\n"
     ]
    },
    {
     "name": "stderr",
     "output_type": "stream",
     "text": [
      "Training: 100%|████████████████████████████████████████████████████████████████████████| 38/38 [00:18<00:00,  2.02it/s]\n"
     ]
    },
    {
     "name": "stdout",
     "output_type": "stream",
     "text": [
      "\n",
      "Train RMSE: 2.7811\n",
      "\n",
      "Validation RMSE: 0.9662\n",
      "No improvement. Patience: 3/3\n",
      "Early stopping.\n"
     ]
    }
   ],
   "source": [
    "epochs = 10\n",
    "best_rmse = float(\"inf\")\n",
    "wait = 0\n",
    "patience = 3\n",
    "\n",
    "for epoch in range(epochs):\n",
    "    print(f\"\\nEpoch {epoch+1}\")\n",
    "    train_rmse = train(model, lossfn, optimizer, device, train_dataloader, scaler)\n",
    "    val_rmse = validate(model, lossfn, device, validation_dataloader)\n",
    "\n",
    "    if val_rmse < best_rmse:\n",
    "        best_rmse = val_rmse\n",
    "        torch.save(model.state_dict(), \"best_model_breath.pth\")\n",
    "        print(\"Saved best model.\")\n",
    "        wait = 0\n",
    "    else:\n",
    "        wait += 1\n",
    "        print(f\"No improvement. Patience: {wait}/{patience}\")\n",
    "        torch.save(model.state_dict(), \"best_model_breath.pth\")\n",
    "        if wait >= patience:\n",
    "            print(\"Early stopping.\")\n",
    "            break\n"
   ]
  },
  {
   "cell_type": "code",
   "execution_count": 329,
   "id": "ac0eb426-cf7f-4c5a-b099-d436659d0bef",
   "metadata": {},
   "outputs": [],
   "source": [
    "test_dataset_path = 'dataset/test'\n",
    "all_subjects = sorted(os.listdir(test_dataset_path))\n",
    "\n",
    "data_frames = []\n",
    "target_data_frames = []\n",
    "\n",
    "for subject_folder in all_subjects:\n",
    "    subject_path = os.path.join(test_dataset_path, subject_folder)\n",
    "    \n",
    "    if os.path.isdir(subject_path):\n",
    "        csv_files = sorted([f for f in os.listdir(subject_path) if f.endswith('.csv')])\n",
    "        \n",
    "        if len(csv_files) >= 2:\n",
    "            first_csv = csv_files[0]\n",
    "            target_csv = csv_files[1]\n",
    "            \n",
    "            # Input signal\n",
    "            full_path = os.path.join(subject_path, first_csv)\n",
    "            df = pd.read_csv(full_path, header=None).T\n",
    "            data_frames.append(df)\n",
    "            \n",
    "            # Target values\n",
    "            target_val_path = os.path.join(subject_path, target_csv)\n",
    "            target_df = pd.read_csv(target_val_path, header=None).T\n",
    "            target_df = target_df.drop(index=0).reset_index(drop=True)  # drop first row\n",
    "            target_data_frames.append(target_df)\n",
    "\n",
    "# Combine all subject data\n",
    "test_data_full = pd.concat(data_frames, ignore_index=True)\n",
    "target_values = pd.concat(target_data_frames, ignore_index=True)\n"
   ]
  },
  {
   "cell_type": "code",
   "execution_count": 330,
   "id": "a2be18e3-8919-4566-abb1-452eefc7a424",
   "metadata": {},
   "outputs": [],
   "source": [
    "test_dataset = BreathRateDataset(test_data_full, target_values)\n",
    "test_loader = torch.utils.data.DataLoader(test_dataset, batch_size=1, shuffle=False)\n"
   ]
  },
  {
   "cell_type": "code",
   "execution_count": 331,
   "id": "7d867868-c585-4387-9222-69237142c559",
   "metadata": {},
   "outputs": [],
   "source": [
    "from tqdm import tqdm\n",
    "\n",
    "def predict_and_evaluate(model, dataloader, device):\n",
    "    model.eval()\n",
    "    total_loss = 0.0\n",
    "    total_samples = 0\n",
    "    all_preds = []\n",
    "    all_targets = []\n",
    "\n",
    "    with torch.no_grad():\n",
    "        for xb, yb in tqdm(dataloader, desc=\"Testing\"):\n",
    "            B, N, W ,_= xb.shape  # (1, 8, 6780)\n",
    "            xb = xb.view(B * N, W, 1).to(device)       # (8, 6780, 1)\n",
    "            yb = yb.view(B * N).to(device)             # (8,)\n",
    "\n",
    "            preds = model(xb).view(-1)    # (8,)\n",
    "            # preds = preds * target_std + target_mean\n",
    "            all_preds.extend(preds.cpu().numpy())\n",
    "            all_targets.extend(yb.cpu().numpy())\n",
    "            \n",
    "            total_loss += torch.sum((preds - yb) ** 2).item()\n",
    "            total_samples += B * N\n",
    "\n",
    "    rmse = (total_loss / total_samples) ** 0.5\n",
    "    print(f\"\\nTest RMSE: {rmse:.4f}\")\n",
    "    return all_preds, all_targets, rmse\n"
   ]
  },
  {
   "cell_type": "code",
   "execution_count": 332,
   "id": "a47aca1c-3dcf-4c5e-9530-77dbd9e6bc8c",
   "metadata": {},
   "outputs": [
    {
     "name": "stderr",
     "output_type": "stream",
     "text": [
      "Testing: 100%|███████████████████████████████████████████████████████████████████████████| 8/8 [00:01<00:00,  4.12it/s]"
     ]
    },
    {
     "name": "stdout",
     "output_type": "stream",
     "text": [
      "\n",
      "Test RMSE: 0.9403\n"
     ]
    },
    {
     "name": "stderr",
     "output_type": "stream",
     "text": [
      "\n"
     ]
    }
   ],
   "source": [
    "model.load_state_dict(torch.load(\"best_model_breath.pth\"))  # if saved\n",
    "model.to(device)\n",
    "all_preds, all_targets, test_rmse = predict_and_evaluate(model, test_loader, device)\n"
   ]
  },
  {
   "cell_type": "code",
   "execution_count": 341,
   "id": "0d906601-fa5d-40a9-bdac-ae25efa5266b",
   "metadata": {},
   "outputs": [
    {
     "data": {
      "text/plain": [
       "(np.float32(14.391564), np.float32(14.59))"
      ]
     },
     "execution_count": 341,
     "metadata": {},
     "output_type": "execute_result"
    }
   ],
   "source": [
    "all_preds[9] , all_targets[9]"
   ]
  },
  {
   "cell_type": "code",
   "execution_count": null,
   "id": "defd27aa-921c-4f0c-80b7-4556b2b4118c",
   "metadata": {},
   "outputs": [],
   "source": []
  },
  {
   "cell_type": "code",
   "execution_count": null,
   "id": "ae61d08a-85bc-4b26-885a-c372fef0a0eb",
   "metadata": {},
   "outputs": [],
   "source": []
  },
  {
   "cell_type": "code",
   "execution_count": null,
   "id": "93035430-3670-4363-9874-ca7aef4016b8",
   "metadata": {},
   "outputs": [],
   "source": []
  },
  {
   "cell_type": "code",
   "execution_count": null,
   "id": "8e810d51-6eb9-4a79-b409-bbf53da46388",
   "metadata": {},
   "outputs": [],
   "source": []
  },
  {
   "cell_type": "code",
   "execution_count": null,
   "id": "a205e728-d624-4dd1-b39b-8f5506584258",
   "metadata": {},
   "outputs": [],
   "source": []
  },
  {
   "cell_type": "code",
   "execution_count": null,
   "id": "ef743756-bd22-4c01-b6b4-28dc1a31eec3",
   "metadata": {},
   "outputs": [],
   "source": []
  },
  {
   "cell_type": "code",
   "execution_count": null,
   "id": "2aefb402-a847-4031-93ae-fd093922c9d7",
   "metadata": {},
   "outputs": [],
   "source": []
  },
  {
   "cell_type": "code",
   "execution_count": null,
   "id": "c445ba00-4490-47d2-8497-dba2875379f2",
   "metadata": {},
   "outputs": [],
   "source": []
  },
  {
   "cell_type": "code",
   "execution_count": null,
   "id": "bd0302dd-c751-4961-b047-2676bfed4820",
   "metadata": {},
   "outputs": [],
   "source": []
  },
  {
   "cell_type": "code",
   "execution_count": null,
   "id": "a750ab3f-7a5f-486b-8ece-8e54e707d1f4",
   "metadata": {},
   "outputs": [],
   "source": []
  },
  {
   "cell_type": "code",
   "execution_count": null,
   "id": "0f706679-c06c-433e-8b16-c91eff1f38ba",
   "metadata": {},
   "outputs": [],
   "source": []
  },
  {
   "cell_type": "code",
   "execution_count": null,
   "id": "71e15026-0038-4c77-945a-135fc69bc36f",
   "metadata": {},
   "outputs": [],
   "source": []
  },
  {
   "cell_type": "code",
   "execution_count": null,
   "id": "55abbef5-40f9-4159-8dd2-4554e6833b19",
   "metadata": {},
   "outputs": [],
   "source": []
  },
  {
   "cell_type": "code",
   "execution_count": null,
   "id": "5ae4b2a4-bd06-44d1-a4f2-a9c2458ebb94",
   "metadata": {},
   "outputs": [],
   "source": []
  },
  {
   "cell_type": "code",
   "execution_count": null,
   "id": "4905628a-8385-43c2-9855-e559f55d9824",
   "metadata": {},
   "outputs": [],
   "source": []
  },
  {
   "cell_type": "code",
   "execution_count": null,
   "id": "0eecdeb7-c124-4f11-b4f8-0dc9f77f145e",
   "metadata": {},
   "outputs": [],
   "source": []
  },
  {
   "cell_type": "code",
   "execution_count": null,
   "id": "785116e9-536c-4eda-bf21-983458e6b59f",
   "metadata": {},
   "outputs": [],
   "source": []
  },
  {
   "cell_type": "code",
   "execution_count": null,
   "id": "52d86b35-ded7-4143-b080-99dcb9e64e15",
   "metadata": {},
   "outputs": [],
   "source": []
  },
  {
   "cell_type": "code",
   "execution_count": null,
   "id": "7f68b510-ce68-46e4-a447-2039878a170a",
   "metadata": {},
   "outputs": [],
   "source": []
  },
  {
   "cell_type": "code",
   "execution_count": null,
   "id": "493c26cc-5a1c-4234-a3e2-1d64b72e9e6f",
   "metadata": {},
   "outputs": [],
   "source": []
  },
  {
   "cell_type": "code",
   "execution_count": null,
   "id": "0cd2b6be-3ccf-41af-b7ac-c1dfdc4e2cae",
   "metadata": {},
   "outputs": [],
   "source": []
  },
  {
   "cell_type": "code",
   "execution_count": null,
   "id": "35fd25b7-c871-4db0-b25a-2b1e941f95d6",
   "metadata": {},
   "outputs": [],
   "source": []
  }
 ],
 "metadata": {
  "kernelspec": {
   "display_name": "Python 3 (ipykernel)",
   "language": "python",
   "name": "python3"
  },
  "language_info": {
   "codemirror_mode": {
    "name": "ipython",
    "version": 3
   },
   "file_extension": ".py",
   "mimetype": "text/x-python",
   "name": "python",
   "nbconvert_exporter": "python",
   "pygments_lexer": "ipython3",
   "version": "3.13.5"
  }
 },
 "nbformat": 4,
 "nbformat_minor": 5
}
